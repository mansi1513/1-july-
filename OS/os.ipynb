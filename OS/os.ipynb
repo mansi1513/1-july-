{
 "cells": [
  {
   "cell_type": "markdown",
   "id": "da4a9691",
   "metadata": {},
   "source": [
    "Os"
   ]
  },
  {
   "cell_type": "code",
   "execution_count": 7,
   "id": "44c57b97",
   "metadata": {},
   "outputs": [],
   "source": [
    "import os"
   ]
  },
  {
   "cell_type": "code",
   "execution_count": 8,
   "id": "e51839c3",
   "metadata": {},
   "outputs": [],
   "source": [
    "file =os.getcwd()\n",
    "# print(file)"
   ]
  },
  {
   "cell_type": "code",
   "execution_count": 9,
   "id": "56211b42",
   "metadata": {},
   "outputs": [
    {
     "name": "stdout",
     "output_type": "stream",
     "text": [
      "folder created successfully\n"
     ]
    }
   ],
   "source": [
    "os.mkdir(\"task\")\n",
    "print(\"folder created successfully\")"
   ]
  },
  {
   "cell_type": "code",
   "execution_count": 10,
   "id": "dd0a71a2",
   "metadata": {},
   "outputs": [
    {
     "name": "stdout",
     "output_type": "stream",
     "text": [
      "folder renamed successfully\n"
     ]
    }
   ],
   "source": [
    "os.rename(\"task\",\"data science\")\n",
    "print(\"folder renamed successfully\")"
   ]
  },
  {
   "cell_type": "code",
   "execution_count": 11,
   "id": "b543c765",
   "metadata": {},
   "outputs": [
    {
     "name": "stdout",
     "output_type": "stream",
     "text": [
      "folder deleted successfully\n"
     ]
    }
   ],
   "source": [
    "os.rmdir(\"data science\")\n",
    "print(\"folder deleted successfully\")"
   ]
  },
  {
   "cell_type": "code",
   "execution_count": 12,
   "id": "afa80ff5",
   "metadata": {},
   "outputs": [
    {
     "data": {
      "text/plain": [
       "['basic.py',\n",
       " 'conditonal.ipynb',\n",
       " 'day two hw.py',\n",
       " 'exception.ipynb',\n",
       " 'file_handling.ipynb',\n",
       " 'function.ipynb',\n",
       " 'largest no,even or odd',\n",
       " 'looping.ipynb',\n",
       " 'oops.ipynb',\n",
       " 'os.ipynb']"
      ]
     },
     "execution_count": 12,
     "metadata": {},
     "output_type": "execute_result"
    }
   ],
   "source": [
    "os.listdir(os.getcwd())"
   ]
  },
  {
   "cell_type": "code",
   "execution_count": 13,
   "id": "2f95a4c7",
   "metadata": {},
   "outputs": [
    {
     "data": {
      "text/plain": [
       "'c:\\\\Users\\\\MANNU\\\\Desktop\\\\DATA SCIENCE'"
      ]
     },
     "execution_count": 13,
     "metadata": {},
     "output_type": "execute_result"
    }
   ],
   "source": [
    "os.getcwd()"
   ]
  },
  {
   "cell_type": "code",
   "execution_count": 15,
   "id": "54849158",
   "metadata": {},
   "outputs": [
    {
     "data": {
      "text/plain": [
       "False"
      ]
     },
     "execution_count": 15,
     "metadata": {},
     "output_type": "execute_result"
    }
   ],
   "source": [
    "path =  r\"c:\\\\Users\\\\MANNU\\\\Desktop\\\\DATA SCIENCE\"\n",
    "os.path.isfile(path) "
   ]
  },
  {
   "cell_type": "code",
   "execution_count": null,
   "id": "862e2f30",
   "metadata": {},
   "outputs": [
    {
     "data": {
      "text/plain": [
       "True"
      ]
     },
     "execution_count": 16,
     "metadata": {},
     "output_type": "execute_result"
    }
   ],
   "source": [
    "path= r\"c:\\\\Users\\\\MANNU\\\\Desktop\\\\DATA SCIENCE\"\n",
    "os.path.isdir(path)"
   ]
  },
  {
   "cell_type": "code",
   "execution_count": 20,
   "id": "c33ea484",
   "metadata": {},
   "outputs": [
    {
     "name": "stdout",
     "output_type": "stream",
     "text": [
      "c:\\Users\\MANNU\\Desktop\\DATA SCIENCE\n"
     ]
    },
    {
     "data": {
      "text/plain": [
       "['basic.py',\n",
       " 'conditonal.ipynb',\n",
       " 'day two hw.py',\n",
       " 'exception.ipynb',\n",
       " 'file_handling.ipynb',\n",
       " 'function.ipynb',\n",
       " 'largest no,even or odd',\n",
       " 'looping.ipynb',\n",
       " 'oops.ipynb',\n",
       " 'os.ipynb']"
      ]
     },
     "execution_count": 20,
     "metadata": {},
     "output_type": "execute_result"
    }
   ],
   "source": [
    "path1 = r\"c:\\Users\\MANNU\" \n",
    "path2 =r\"Desktop\\DATA SCIENCE\"\n",
    "complete_path =os.path.join(path1,path2)\n",
    "print(complete_path)\n",
    "os.listdir(complete_path)"
   ]
  },
  {
   "cell_type": "code",
   "execution_count": 21,
   "id": "296baf4a",
   "metadata": {},
   "outputs": [
    {
     "name": "stdout",
     "output_type": "stream",
     "text": [
      "size of the file(in bytes):- 4096\n"
     ]
    }
   ],
   "source": [
    "path = r\"c:\\\\Users\\\\MANNU\\\\Desktop\\\\DATA SCIENCE\"\n",
    "size=os.path.getsize(path)\n",
    "print(\"size of the file(in bytes):-\",size)"
   ]
  },
  {
   "cell_type": "code",
   "execution_count": 24,
   "id": "7c10d042",
   "metadata": {},
   "outputs": [
    {
     "name": "stdout",
     "output_type": "stream",
     "text": [
      "before dir c:\\Users\\MANNU\\Desktop\\DATA SCIENCE\n",
      "after dir c:\\Users\\MANNU\\Desktop\\DATA SCIENCE\n"
     ]
    }
   ],
   "source": [
    "print(\"before dir\",os.getcwd())\n",
    "os.chdir(r\"c:\\\\Users\\\\MANNU\\\\Desktop\\\\DATA SCIENCE\")\n",
    "print(\"after dir\",os.getcwd())"
   ]
  },
  {
   "cell_type": "code",
   "execution_count": null,
   "id": "0d00f499",
   "metadata": {},
   "outputs": [],
   "source": []
  }
 ],
 "metadata": {
  "kernelspec": {
   "display_name": "Python 3",
   "language": "python",
   "name": "python3"
  },
  "language_info": {
   "codemirror_mode": {
    "name": "ipython",
    "version": 3
   },
   "file_extension": ".py",
   "mimetype": "text/x-python",
   "name": "python",
   "nbconvert_exporter": "python",
   "pygments_lexer": "ipython3",
   "version": "3.11.5"
  }
 },
 "nbformat": 4,
 "nbformat_minor": 5
}
