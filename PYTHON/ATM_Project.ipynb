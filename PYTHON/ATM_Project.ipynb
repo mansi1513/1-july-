{
 "cells": [
  {
   "cell_type": "markdown",
   "id": "ab316cd0",
   "metadata": {},
   "source": [
    "__ATM BACK ACCOUNT PROJECT__"
   ]
  },
  {
   "cell_type": "code",
   "execution_count": null,
   "id": "b84540cf",
   "metadata": {},
   "outputs": [],
   "source": [
    "class Bank:\n",
    "    def __init__(self, name, age, account_number, phone_number, address):\n",
    "        self.name = name\n",
    "        self.age = age\n",
    "        self.__account_number = account_number \n",
    "        self.phone_number = phone_number\n",
    "        self.address = address\n",
    "        self.balance = 0  \n",
    "    def deposit(self, amount):\n",
    "        self.balance +=amount\n",
    "        print(f\"Deposited ₹{amount}. New balance is ₹{self.balance}\")\n",
    "\n",
    "    def withdraw(self, amount):\n",
    "        self.balance -= amount\n",
    "        print(f\"Withdrew ₹{amount}. Remaining balance is ₹{self.balance}\")\n",
    "\n",
    "    def show_info(self):\n",
    "        print(\"Name:\", self.name)\n",
    "        print(\"Age:\", self.age)\n",
    "        print(\"Phone Number:\", self.phone_number)\n",
    "        print(\"Address:\", self.address)\n",
    "        print(\"Account Number:\", self.__account_number)\n",
    "        print(\"Balance: ₹\", self.balance)\n",
    "\n",
    "    def get_account_number(self): \n",
    "        return self.__account_number\n",
    "\n",
    "\n",
    "\n",
    "obj = Bank(\"mansi\", 20, \"1234567790\", \"9166660946\", \"Jaipur\")\n",
    "\n",
    "# obj.deposit(327)   #####>>>This is use to input before running the code (writen inside code)\n",
    "# obj.withdraw(30)\n",
    "\n",
    "obj.deposit(int(input(\"Enter deposite amount:\"))) #####>>>>this is use to input by the user after running the code\n",
    "obj.withdraw(int(input(\"Enter withdraw amount:\")))\n",
    "\n",
    "\n",
    "obj.show_info()\n"
   ]
  },
  {
   "cell_type": "code",
   "execution_count": null,
   "id": "54e1b975",
   "metadata": {},
   "outputs": [],
   "source": []
  }
 ],
 "metadata": {
  "kernelspec": {
   "display_name": "Python 3",
   "language": "python",
   "name": "python3"
  },
  "language_info": {
   "codemirror_mode": {
    "name": "ipython",
    "version": 3
   },
   "file_extension": ".py",
   "mimetype": "text/x-python",
   "name": "python",
   "nbconvert_exporter": "python",
   "pygments_lexer": "ipython3",
   "version": "3.11.5"
  }
 },
 "nbformat": 4,
 "nbformat_minor": 5
}
