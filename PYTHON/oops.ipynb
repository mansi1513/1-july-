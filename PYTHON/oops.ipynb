{
 "cells": [
  {
   "cell_type": "markdown",
   "id": "495e277e",
   "metadata": {},
   "source": [
    "#oops concept in python\n"
   ]
  },
  {
   "cell_type": "code",
   "execution_count": null,
   "id": "302c1ff0",
   "metadata": {},
   "outputs": [],
   "source": [
    "class class_name:\n",
    "pass"
   ]
  },
  {
   "cell_type": "code",
   "execution_count": 3,
   "id": "411e59fc",
   "metadata": {},
   "outputs": [
    {
     "name": "stdout",
     "output_type": "stream",
     "text": [
      "my name is mansi and my age is20\n"
     ]
    }
   ],
   "source": [
    "class student:\n",
    " name =\"mansi\"\n",
    " age=20\n",
    " print(f\"my name is {name} and my age is{age}\")\n",
    "obj_st=student()"
   ]
  },
  {
   "cell_type": "code",
   "execution_count": 4,
   "id": "046648b6",
   "metadata": {},
   "outputs": [
    {
     "data": {
      "text/plain": [
       "'mansi'"
      ]
     },
     "execution_count": 4,
     "metadata": {},
     "output_type": "execute_result"
    }
   ],
   "source": [
    "obj_st.name"
   ]
  },
  {
   "cell_type": "code",
   "execution_count": 5,
   "id": "fcf2775e",
   "metadata": {},
   "outputs": [
    {
     "data": {
      "text/plain": [
       "20"
      ]
     },
     "execution_count": 5,
     "metadata": {},
     "output_type": "execute_result"
    }
   ],
   "source": [
    "obj_st.age"
   ]
  },
  {
   "cell_type": "code",
   "execution_count": 1,
   "id": "f7dcdb1e",
   "metadata": {},
   "outputs": [],
   "source": [
    "#multiple inheritance\n",
    "class Father:\n",
    "    father_name=\"sunil\"\n",
    "    father_id=\"1234\""
   ]
  },
  {
   "cell_type": "code",
   "execution_count": 4,
   "id": "5154d262",
   "metadata": {},
   "outputs": [
    {
     "name": "stdout",
     "output_type": "stream",
     "text": [
      "pushkar raj\n",
      "1234\n",
      "rajkumar\n"
     ]
    }
   ],
   "source": [
    "#multilevel inheritance\n",
    "class grandfather:\n",
    "    grandfather_name=\"pushkar raj\"\n",
    "    grandfather_id=\"1234\"\n",
    "class uncle:\n",
    "        uncle_name=\"rajkumar\"\n",
    "class child(grandfather,uncle):\n",
    "    pass\n",
    "\n",
    "obj_child=child()\n",
    "print(obj_child.grandfather_name)\n",
    "print(obj_child.grandfather_id)\n",
    "print(obj_child.uncle_name)\n"
   ]
  },
  {
   "cell_type": "code",
   "execution_count": 3,
   "id": "22845948",
   "metadata": {},
   "outputs": [],
   "source": [
    "class student:\n",
    "    name=\"mansi\"### class variable\n",
    "    age =20\n",
    "    def info(self):\n",
    "        print(\"this is my first method\")\n",
    "        dt_obj=student()"
   ]
  },
  {
   "cell_type": "code",
   "execution_count": 1,
   "id": "5d34f559",
   "metadata": {},
   "outputs": [
    {
     "name": "stdout",
     "output_type": "stream",
     "text": [
      "this is my first method\n",
      "how are you all\n"
     ]
    }
   ],
   "source": [
    "class  student:\n",
    "    name=\"mansi\"\n",
    "    age=20\n",
    "\n",
    "    def info(self):\n",
    "        print(\"this is my first method\")\n",
    "        print(\"how are you all\")\n",
    "\n",
    "#create object after class definition\n",
    "dt_obj=student()\n",
    "\n",
    "#call the method using the object\n",
    "dt_obj.info()\n"
   ]
  },
  {
   "cell_type": "code",
   "execution_count": 4,
   "id": "ebb316d5",
   "metadata": {},
   "outputs": [],
   "source": [
    "#encapuslation\n",
    "#private\n",
    "#public\n",
    "#protected\n",
    "class student:\n",
    "    __name=\"mansi\"###private variables\n",
    "    age=20 ###public variable\n",
    "    _id=\"1234\"###protected variable\n",
    "    st_obj= student()"
   ]
  },
  {
   "cell_type": "code",
   "execution_count": 15,
   "id": "754b93cf",
   "metadata": {},
   "outputs": [
    {
     "ename": "SyntaxError",
     "evalue": "expected '(' (1002955453.py, line 8)",
     "output_type": "error",
     "traceback": [
      "  \u001b[36mCell\u001b[39m\u001b[36m \u001b[39m\u001b[32mIn[15]\u001b[39m\u001b[32m, line 8\u001b[39m\n\u001b[31m    \u001b[39m\u001b[31mdef deposit=(self,2500):\u001b[39m\n               ^\n\u001b[31mSyntaxError\u001b[39m\u001b[31m:\u001b[39m expected '('\n"
     ]
    }
   ],
   "source": [
    "class Bank:\n",
    "   def __init__(self,account_number,initial_balance=0):\n",
    "      self.name=\"mansi\"#private variable\n",
    "self.account_number=\"13456783\" ##private variable\n",
    "self.address=\"jaipur\" ##public variable\n",
    "self.phone_number =\"9166660946\"##private variable\n",
    "\n",
    "def deposit=(self,2500):\n",
    "if amount>0:\n",
    "   self.balance +=amount\n",
    "   print(f\"deposited{amount}.new balance:{self.balance}\")\n",
    "else:\n",
    "   print(\"deposit amount must be positive.\")\n",
    "total_balance=45000###public variable\n",
    "st_obj=Bank()"
   ]
  },
  {
   "cell_type": "code",
   "execution_count": 17,
   "id": "89849ce7",
   "metadata": {},
   "outputs": [],
   "source": [
    "###constructor\n",
    "class Student:\n",
    "    def __init__(self):\n",
    "        pass\n"
   ]
  },
  {
   "cell_type": "code",
   "execution_count": 20,
   "id": "226e3aad",
   "metadata": {},
   "outputs": [],
   "source": [
    "class Student:\n",
    "    def __init__(self,name,age):\n",
    "        self.name=name\n",
    "        self.age=age##intance variable\n",
    "\n",
    "        obj_st=Student(name=\"mansi\",age=20)\n",
    "\n",
    "        print(obj_st.name)\n",
    "        print(obj_st.age)\n",
    "        "
   ]
  },
  {
   "cell_type": "markdown",
   "id": "05ad49e3",
   "metadata": {},
   "source": [
    "="
   ]
  },
  {
   "cell_type": "code",
   "execution_count": null,
   "id": "7c15eeea",
   "metadata": {},
   "outputs": [],
   "source": [
    " \n",
    "class Student:\n",
    "    def __init__(self,name,age,address):\n",
    "        self.name=name\n",
    "        self.age=age##instance variable\n",
    "        self.address=address\n",
    "        \n",
    "        def display(self):\n",
    "            print(\"my name is{self.name} and my age is{self.age} and my address is{self.address}\")\n",
    "\n",
    "            obj_st"
   ]
  },
  {
   "cell_type": "code",
   "execution_count": 12,
   "id": "64bbaaf3",
   "metadata": {},
   "outputs": [
    {
     "ename": "IndentationError",
     "evalue": "unindent does not match any outer indentation level (<tokenize>, line 16)",
     "output_type": "error",
     "traceback": [
      "  \u001b[36mFile \u001b[39m\u001b[32m<tokenize>:16\u001b[39m\n\u001b[31m    \u001b[39m\u001b[31mreturn self.balance\u001b[39m\n    ^\n\u001b[31mIndentationError\u001b[39m\u001b[31m:\u001b[39m unindent does not match any outer indentation level\n"
     ]
    }
   ],
   "source": [
    "class Bank:\n",
    "    def __init__(self,name,age,account_number,phone_number,address):\n",
    "        self.name=name\n",
    "        self.age=age\n",
    "        self.__account_number=account_number##public variable\n",
    "        self.phone_number=phone_number\n",
    "        self.address=address\n",
    "        self.balance=0\n",
    "\n",
    "        def deposit(self,amount):\n",
    "            self.balance+=amount\n",
    "            return self.balance\n",
    "        \n",
    "        def withraw(self,amount):\n",
    "             self.balance-=amount\n",
    "            return self.balance\n",
    "        \n",
    "        def total_balance(self):\n",
    "            return self.balance\n",
    "        def info(self):\n",
    "            print(f\"name={self.name} and age={self.age} and account_number={self.__account_number} and phone_number={self.phone_number},and address={self.address}\")\n",
    "bn_obj = Bank(name=\"mansi\",age=20,account_number=\"12345678\",phone_number=\"9166660946\",address=\"jaipur\")\n",
    "        \n",
    "bn_obj.info()\n",
    "\n"
   ]
  },
  {
   "cell_type": "code",
   "execution_count": null,
   "id": "41277486",
   "metadata": {},
   "outputs": [],
   "source": []
  }
 ],
 "metadata": {
  "kernelspec": {
   "display_name": "Python 3",
   "language": "python",
   "name": "python3"
  },
  "language_info": {
   "codemirror_mode": {
    "name": "ipython",
    "version": 3
   },
   "file_extension": ".py",
   "mimetype": "text/x-python",
   "name": "python",
   "nbconvert_exporter": "python",
   "pygments_lexer": "ipython3",
   "version": "3.11.5"
  }
 },
 "nbformat": 4,
 "nbformat_minor": 5
}
