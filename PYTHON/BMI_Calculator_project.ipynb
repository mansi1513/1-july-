{
 "cells": [
  {
   "cell_type": "markdown",
   "id": "bfc11020",
   "metadata": {},
   "source": [
    "__BMI (Body Mass Index) Calculator__ "
   ]
  },
  {
   "cell_type": "code",
   "execution_count": null,
   "id": "c44c0d48",
   "metadata": {},
   "outputs": [],
   "source": [
    "# BMI Calculator\n",
    "\n",
    "\n",
    "weight = float(input(\"Enter your weight in kg: \"))\n",
    "height = float(input(\"Enter your height in meters: \"))\n",
    "\n",
    "\n",
    "bmi = weight / (height ** 2)\n",
    "\n",
    "\n",
    "print(f\"Your BMI is: {bmi:.2f}\")\n",
    "\n",
    "\n",
    "if bmi < 20.3:\n",
    "    print(\"You are underweight.\")\n",
    "elif 20.3 <= bmi < 25:\n",
    "    print(\"You have a normal weight.\")\n",
    "elif 25 <= bmi < 30:\n",
    "    print(\"You are overweight.\")\n",
    "\n"
   ]
  },
  {
   "cell_type": "code",
   "execution_count": null,
   "id": "d3379c7c",
   "metadata": {},
   "outputs": [],
   "source": []
  }
 ],
 "metadata": {
  "kernelspec": {
   "display_name": "Python 3",
   "language": "python",
   "name": "python3"
  },
  "language_info": {
   "codemirror_mode": {
    "name": "ipython",
    "version": 3
   },
   "file_extension": ".py",
   "mimetype": "text/x-python",
   "name": "python",
   "nbconvert_exporter": "python",
   "pygments_lexer": "ipython3",
   "version": "3.11.5"
  }
 },
 "nbformat": 4,
 "nbformat_minor": 5
}
