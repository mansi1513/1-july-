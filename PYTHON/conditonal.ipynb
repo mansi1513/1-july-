{
 "cells": [
  {
   "cell_type": "code",
   "execution_count": null,
   "id": "8f074eac",
   "metadata": {
    "vscode": {
     "languageId": "plaintext"
    }
   },
   "outputs": [],
   "source": [
    "#conditional statement\n",
    "*if,else,elif\n",
    "A conditional statement"
   ]
  },
  {
   "cell_type": "code",
   "execution_count": null,
   "id": "5324780d",
   "metadata": {
    "vscode": {
     "languageId": "plaintext"
    }
   },
   "outputs": [],
   "source": [
    "if condition"
   ]
  }
 ],
 "metadata": {
  "language_info": {
   "name": "python"
  }
 },
 "nbformat": 4,
 "nbformat_minor": 5
}
