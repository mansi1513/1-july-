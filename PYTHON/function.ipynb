{
 "cells": [
  {
   "cell_type": "code",
   "execution_count": null,
   "id": "5ba7b87b",
   "metadata": {},
   "outputs": [],
   "source": [
    "def display():\n",
    " print(\"hello\")"
   ]
  },
  {
   "cell_type": "code",
   "execution_count": 7,
   "id": "d50ebbcc",
   "metadata": {},
   "outputs": [
    {
     "name": "stdout",
     "output_type": "stream",
     "text": [
      "30\n"
     ]
    }
   ],
   "source": [
    "def add(a,b):\n",
    "    print(a+b)\n",
    "add(10,20)"
   ]
  },
  {
   "cell_type": "code",
   "execution_count": null,
   "id": "a9f1a1f0",
   "metadata": {},
   "outputs": [],
   "source": [
    "#user define function\n",
    "#pre define function"
   ]
  },
  {
   "cell_type": "code",
   "execution_count": null,
   "id": "ad10101b",
   "metadata": {},
   "outputs": [],
   "source": [
    "#lamda function\n",
    "#lamda>>>> keyword\n",
    "#lamda is anoymous function\n"
   ]
  },
  {
   "cell_type": "code",
   "execution_count": 13,
   "id": "ccf237d1",
   "metadata": {},
   "outputs": [
    {
     "data": {
      "text/plain": [
       "30"
      ]
     },
     "execution_count": 13,
     "metadata": {},
     "output_type": "execute_result"
    }
   ],
   "source": [
    "add=lambda a,b:a+b\n",
    "add(10,20)"
   ]
  },
  {
   "cell_type": "code",
   "execution_count": 14,
   "id": "4a34ffd0",
   "metadata": {},
   "outputs": [
    {
     "data": {
      "text/plain": [
       "100"
      ]
     },
     "execution_count": 14,
     "metadata": {},
     "output_type": "execute_result"
    }
   ],
   "source": [
    "square=lambda a:a**2\n",
    "square(10)\n"
   ]
  },
  {
   "cell_type": "code",
   "execution_count": 1,
   "id": "2a197158",
   "metadata": {},
   "outputs": [],
   "source": [
    "def display(name,age,address=\"jaipur\"):\n",
    "    print(f\"my name is{name} and my{age} and i am from{address}\")"
   ]
  }
 ],
 "metadata": {
  "kernelspec": {
   "display_name": "Python 3",
   "language": "python",
   "name": "python3"
  },
  "language_info": {
   "codemirror_mode": {
    "name": "ipython",
    "version": 3
   },
   "file_extension": ".py",
   "mimetype": "text/x-python",
   "name": "python",
   "nbconvert_exporter": "python",
   "pygments_lexer": "ipython3",
   "version": "3.11.5"
  }
 },
 "nbformat": 4,
 "nbformat_minor": 5
}
